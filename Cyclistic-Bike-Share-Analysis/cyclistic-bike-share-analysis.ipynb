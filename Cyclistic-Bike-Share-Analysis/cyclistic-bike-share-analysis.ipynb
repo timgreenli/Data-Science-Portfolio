{
 "cells": [
  {
   "cell_type": "code",
   "execution_count": 1,
   "id": "82deba16",
   "metadata": {
    "_cell_guid": "d6c62253-c8d4-4c26-9ca0-cd013c1d5c3c",
    "_execution_state": "idle",
    "_kg_hide-output": true,
    "_uuid": "e914d695-8272-47bb-b48b-19f589265842",
    "collapsed": true,
    "execution": {
     "iopub.execute_input": "2023-07-20T18:41:40.009133Z",
     "iopub.status.busy": "2023-07-20T18:41:40.006026Z",
     "iopub.status.idle": "2023-07-20T18:41:41.141559Z",
     "shell.execute_reply": "2023-07-20T18:41:41.139684Z"
    },
    "jupyter": {
     "outputs_hidden": true
    },
    "papermill": {
     "duration": 1.145633,
     "end_time": "2023-07-20T18:41:41.144948",
     "exception": false,
     "start_time": "2023-07-20T18:41:39.999315",
     "status": "completed"
    },
    "scrolled": true,
    "tags": []
   },
   "outputs": [
    {
     "name": "stderr",
     "output_type": "stream",
     "text": [
      "── \u001b[1mAttaching core tidyverse packages\u001b[22m ──────────────────────── tidyverse 2.0.0 ──\n",
      "\u001b[32m✔\u001b[39m \u001b[34mdplyr    \u001b[39m 1.1.2     \u001b[32m✔\u001b[39m \u001b[34mreadr    \u001b[39m 2.1.4\n",
      "\u001b[32m✔\u001b[39m \u001b[34mforcats  \u001b[39m 1.0.0     \u001b[32m✔\u001b[39m \u001b[34mstringr  \u001b[39m 1.5.0\n",
      "\u001b[32m✔\u001b[39m \u001b[34mggplot2  \u001b[39m 3.4.2     \u001b[32m✔\u001b[39m \u001b[34mtibble   \u001b[39m 3.2.1\n",
      "\u001b[32m✔\u001b[39m \u001b[34mlubridate\u001b[39m 1.9.2     \u001b[32m✔\u001b[39m \u001b[34mtidyr    \u001b[39m 1.3.0\n",
      "\u001b[32m✔\u001b[39m \u001b[34mpurrr    \u001b[39m 1.0.1     \n",
      "── \u001b[1mConflicts\u001b[22m ────────────────────────────────────────── tidyverse_conflicts() ──\n",
      "\u001b[31m✖\u001b[39m \u001b[34mdplyr\u001b[39m::\u001b[32mfilter()\u001b[39m masks \u001b[34mstats\u001b[39m::filter()\n",
      "\u001b[31m✖\u001b[39m \u001b[34mdplyr\u001b[39m::\u001b[32mlag()\u001b[39m    masks \u001b[34mstats\u001b[39m::lag()\n",
      "\u001b[36mℹ\u001b[39m Use the conflicted package (\u001b[3m\u001b[34m<http://conflicted.r-lib.org/>\u001b[39m\u001b[23m) to force all conflicts to become errors\n"
     ]
    }
   ],
   "source": [
    "# Load libraries\n",
    "\n",
    "library(tidyverse)\n",
    "library(lubridate)\n",
    "library(ggplot2)"
   ]
  },
  {
   "cell_type": "markdown",
   "id": "0e0d4b42",
   "metadata": {
    "papermill": {
     "duration": 0.003323,
     "end_time": "2023-07-20T18:41:41.151921",
     "exception": false,
     "start_time": "2023-07-20T18:41:41.148598",
     "status": "completed"
    },
    "tags": []
   },
   "source": [
    "## STEP 1: COLLECT DATA"
   ]
  },
  {
   "cell_type": "code",
   "execution_count": 2,
   "id": "13abdcec",
   "metadata": {
    "_kg_hide-input": false,
    "_kg_hide-output": true,
    "collapsed": true,
    "execution": {
     "iopub.execute_input": "2023-07-20T18:41:41.191456Z",
     "iopub.status.busy": "2023-07-20T18:41:41.160573Z",
     "iopub.status.idle": "2023-07-20T18:42:11.918928Z",
     "shell.execute_reply": "2023-07-20T18:42:11.917018Z"
    },
    "jupyter": {
     "outputs_hidden": true
    },
    "papermill": {
     "duration": 30.767125,
     "end_time": "2023-07-20T18:42:11.922362",
     "exception": false,
     "start_time": "2023-07-20T18:41:41.155237",
     "status": "completed"
    },
    "scrolled": true,
    "tags": []
   },
   "outputs": [
    {
     "name": "stderr",
     "output_type": "stream",
     "text": [
      "\u001b[1mRows: \u001b[22m\u001b[34m769204\u001b[39m \u001b[1mColumns: \u001b[22m\u001b[34m13\u001b[39m\n",
      "\u001b[36m──\u001b[39m \u001b[1mColumn specification\u001b[22m \u001b[36m────────────────────────────────────────────────────────\u001b[39m\n",
      "\u001b[1mDelimiter:\u001b[22m \",\"\n",
      "\u001b[31mchr\u001b[39m  (7): ride_id, rideable_type, start_station_name, start_station_id, end_...\n",
      "\u001b[32mdbl\u001b[39m  (4): start_lat, start_lng, end_lat, end_lng\n",
      "\u001b[34mdttm\u001b[39m (2): started_at, ended_at\n",
      "\n",
      "\u001b[36mℹ\u001b[39m Use `spec()` to retrieve the full column specification for this data.\n",
      "\u001b[36mℹ\u001b[39m Specify the column types or set `show_col_types = FALSE` to quiet this message.\n",
      "\u001b[1mRows: \u001b[22m\u001b[34m823488\u001b[39m \u001b[1mColumns: \u001b[22m\u001b[34m13\u001b[39m\n",
      "\u001b[36m──\u001b[39m \u001b[1mColumn specification\u001b[22m \u001b[36m────────────────────────────────────────────────────────\u001b[39m\n",
      "\u001b[1mDelimiter:\u001b[22m \",\"\n",
      "\u001b[31mchr\u001b[39m  (7): ride_id, rideable_type, start_station_name, start_station_id, end_...\n",
      "\u001b[32mdbl\u001b[39m  (4): start_lat, start_lng, end_lat, end_lng\n",
      "\u001b[34mdttm\u001b[39m (2): started_at, ended_at\n",
      "\n",
      "\u001b[36mℹ\u001b[39m Use `spec()` to retrieve the full column specification for this data.\n",
      "\u001b[36mℹ\u001b[39m Specify the column types or set `show_col_types = FALSE` to quiet this message.\n",
      "\u001b[1mRows: \u001b[22m\u001b[34m785932\u001b[39m \u001b[1mColumns: \u001b[22m\u001b[34m13\u001b[39m\n",
      "\u001b[36m──\u001b[39m \u001b[1mColumn specification\u001b[22m \u001b[36m────────────────────────────────────────────────────────\u001b[39m\n",
      "\u001b[1mDelimiter:\u001b[22m \",\"\n",
      "\u001b[31mchr\u001b[39m  (7): ride_id, rideable_type, start_station_name, start_station_id, end_...\n",
      "\u001b[32mdbl\u001b[39m  (4): start_lat, start_lng, end_lat, end_lng\n",
      "\u001b[34mdttm\u001b[39m (2): started_at, ended_at\n",
      "\n",
      "\u001b[36mℹ\u001b[39m Use `spec()` to retrieve the full column specification for this data.\n",
      "\u001b[36mℹ\u001b[39m Specify the column types or set `show_col_types = FALSE` to quiet this message.\n",
      "\u001b[1mRows: \u001b[22m\u001b[34m701339\u001b[39m \u001b[1mColumns: \u001b[22m\u001b[34m13\u001b[39m\n",
      "\u001b[36m──\u001b[39m \u001b[1mColumn specification\u001b[22m \u001b[36m────────────────────────────────────────────────────────\u001b[39m\n",
      "\u001b[1mDelimiter:\u001b[22m \",\"\n",
      "\u001b[31mchr\u001b[39m  (7): ride_id, rideable_type, start_station_name, start_station_id, end_...\n",
      "\u001b[32mdbl\u001b[39m  (4): start_lat, start_lng, end_lat, end_lng\n",
      "\u001b[34mdttm\u001b[39m (2): started_at, ended_at\n",
      "\n",
      "\u001b[36mℹ\u001b[39m Use `spec()` to retrieve the full column specification for this data.\n",
      "\u001b[36mℹ\u001b[39m Specify the column types or set `show_col_types = FALSE` to quiet this message.\n",
      "\u001b[1mRows: \u001b[22m\u001b[34m558685\u001b[39m \u001b[1mColumns: \u001b[22m\u001b[34m13\u001b[39m\n",
      "\u001b[36m──\u001b[39m \u001b[1mColumn specification\u001b[22m \u001b[36m────────────────────────────────────────────────────────\u001b[39m\n",
      "\u001b[1mDelimiter:\u001b[22m \",\"\n",
      "\u001b[31mchr\u001b[39m  (7): ride_id, rideable_type, start_station_name, start_station_id, end_...\n",
      "\u001b[32mdbl\u001b[39m  (4): start_lat, start_lng, end_lat, end_lng\n",
      "\u001b[34mdttm\u001b[39m (2): started_at, ended_at\n",
      "\n",
      "\u001b[36mℹ\u001b[39m Use `spec()` to retrieve the full column specification for this data.\n",
      "\u001b[36mℹ\u001b[39m Specify the column types or set `show_col_types = FALSE` to quiet this message.\n",
      "\u001b[1mRows: \u001b[22m\u001b[34m337735\u001b[39m \u001b[1mColumns: \u001b[22m\u001b[34m13\u001b[39m\n",
      "\u001b[36m──\u001b[39m \u001b[1mColumn specification\u001b[22m \u001b[36m────────────────────────────────────────────────────────\u001b[39m\n",
      "\u001b[1mDelimiter:\u001b[22m \",\"\n",
      "\u001b[31mchr\u001b[39m  (7): ride_id, rideable_type, start_station_name, start_station_id, end_...\n",
      "\u001b[32mdbl\u001b[39m  (4): start_lat, start_lng, end_lat, end_lng\n",
      "\u001b[34mdttm\u001b[39m (2): started_at, ended_at\n",
      "\n",
      "\u001b[36mℹ\u001b[39m Use `spec()` to retrieve the full column specification for this data.\n",
      "\u001b[36mℹ\u001b[39m Specify the column types or set `show_col_types = FALSE` to quiet this message.\n",
      "\u001b[1mRows: \u001b[22m\u001b[34m181806\u001b[39m \u001b[1mColumns: \u001b[22m\u001b[34m13\u001b[39m\n",
      "\u001b[36m──\u001b[39m \u001b[1mColumn specification\u001b[22m \u001b[36m────────────────────────────────────────────────────────\u001b[39m\n",
      "\u001b[1mDelimiter:\u001b[22m \",\"\n",
      "\u001b[31mchr\u001b[39m  (7): ride_id, rideable_type, start_station_name, start_station_id, end_...\n",
      "\u001b[32mdbl\u001b[39m  (4): start_lat, start_lng, end_lat, end_lng\n",
      "\u001b[34mdttm\u001b[39m (2): started_at, ended_at\n",
      "\n",
      "\u001b[36mℹ\u001b[39m Use `spec()` to retrieve the full column specification for this data.\n",
      "\u001b[36mℹ\u001b[39m Specify the column types or set `show_col_types = FALSE` to quiet this message.\n",
      "\u001b[1mRows: \u001b[22m\u001b[34m190301\u001b[39m \u001b[1mColumns: \u001b[22m\u001b[34m13\u001b[39m\n",
      "\u001b[36m──\u001b[39m \u001b[1mColumn specification\u001b[22m \u001b[36m────────────────────────────────────────────────────────\u001b[39m\n",
      "\u001b[1mDelimiter:\u001b[22m \",\"\n",
      "\u001b[31mchr\u001b[39m  (7): ride_id, rideable_type, start_station_name, start_station_id, end_...\n",
      "\u001b[32mdbl\u001b[39m  (4): start_lat, start_lng, end_lat, end_lng\n",
      "\u001b[34mdttm\u001b[39m (2): started_at, ended_at\n",
      "\n",
      "\u001b[36mℹ\u001b[39m Use `spec()` to retrieve the full column specification for this data.\n",
      "\u001b[36mℹ\u001b[39m Specify the column types or set `show_col_types = FALSE` to quiet this message.\n",
      "\u001b[1mRows: \u001b[22m\u001b[34m190445\u001b[39m \u001b[1mColumns: \u001b[22m\u001b[34m13\u001b[39m\n",
      "\u001b[36m──\u001b[39m \u001b[1mColumn specification\u001b[22m \u001b[36m────────────────────────────────────────────────────────\u001b[39m\n",
      "\u001b[1mDelimiter:\u001b[22m \",\"\n",
      "\u001b[31mchr\u001b[39m  (7): ride_id, rideable_type, start_station_name, start_station_id, end_...\n",
      "\u001b[32mdbl\u001b[39m  (4): start_lat, start_lng, end_lat, end_lng\n",
      "\u001b[34mdttm\u001b[39m (2): started_at, ended_at\n",
      "\n",
      "\u001b[36mℹ\u001b[39m Use `spec()` to retrieve the full column specification for this data.\n",
      "\u001b[36mℹ\u001b[39m Specify the column types or set `show_col_types = FALSE` to quiet this message.\n",
      "\u001b[1mRows: \u001b[22m\u001b[34m258678\u001b[39m \u001b[1mColumns: \u001b[22m\u001b[34m13\u001b[39m\n",
      "\u001b[36m──\u001b[39m \u001b[1mColumn specification\u001b[22m \u001b[36m────────────────────────────────────────────────────────\u001b[39m\n",
      "\u001b[1mDelimiter:\u001b[22m \",\"\n",
      "\u001b[31mchr\u001b[39m  (7): ride_id, rideable_type, start_station_name, start_station_id, end_...\n",
      "\u001b[32mdbl\u001b[39m  (4): start_lat, start_lng, end_lat, end_lng\n",
      "\u001b[34mdttm\u001b[39m (2): started_at, ended_at\n",
      "\n",
      "\u001b[36mℹ\u001b[39m Use `spec()` to retrieve the full column specification for this data.\n",
      "\u001b[36mℹ\u001b[39m Specify the column types or set `show_col_types = FALSE` to quiet this message.\n",
      "\u001b[1mRows: \u001b[22m\u001b[34m426590\u001b[39m \u001b[1mColumns: \u001b[22m\u001b[34m13\u001b[39m\n",
      "\u001b[36m──\u001b[39m \u001b[1mColumn specification\u001b[22m \u001b[36m────────────────────────────────────────────────────────\u001b[39m\n",
      "\u001b[1mDelimiter:\u001b[22m \",\"\n",
      "\u001b[31mchr\u001b[39m  (7): ride_id, rideable_type, start_station_name, start_station_id, end_...\n",
      "\u001b[32mdbl\u001b[39m  (4): start_lat, start_lng, end_lat, end_lng\n",
      "\u001b[34mdttm\u001b[39m (2): started_at, ended_at\n",
      "\n",
      "\u001b[36mℹ\u001b[39m Use `spec()` to retrieve the full column specification for this data.\n",
      "\u001b[36mℹ\u001b[39m Specify the column types or set `show_col_types = FALSE` to quiet this message.\n",
      "\u001b[1mRows: \u001b[22m\u001b[34m604827\u001b[39m \u001b[1mColumns: \u001b[22m\u001b[34m13\u001b[39m\n",
      "\u001b[36m──\u001b[39m \u001b[1mColumn specification\u001b[22m \u001b[36m────────────────────────────────────────────────────────\u001b[39m\n",
      "\u001b[1mDelimiter:\u001b[22m \",\"\n",
      "\u001b[31mchr\u001b[39m  (7): ride_id, rideable_type, start_station_name, start_station_id, end_...\n",
      "\u001b[32mdbl\u001b[39m  (4): start_lat, start_lng, end_lat, end_lng\n",
      "\u001b[34mdttm\u001b[39m (2): started_at, ended_at\n",
      "\n",
      "\u001b[36mℹ\u001b[39m Use `spec()` to retrieve the full column specification for this data.\n",
      "\u001b[36mℹ\u001b[39m Specify the column types or set `show_col_types = FALSE` to quiet this message.\n"
     ]
    }
   ],
   "source": [
    "# Upload datasets\n",
    "csv_2022_06 <- read_csv(\"/kaggle/input/divvy-tripdata-june-2022-to-may-2023/202206-divvy-tripdata.csv\")\n",
    "csv_2022_07 <- read_csv(\"/kaggle/input/divvy-tripdata-june-2022-to-may-2023/202207-divvy-tripdata.csv\")\n",
    "csv_2022_08 <- read_csv(\"/kaggle/input/divvy-tripdata-june-2022-to-may-2023/202208-divvy-tripdata.csv\")\n",
    "csv_2022_09 <- read_csv(\"/kaggle/input/divvy-tripdata-june-2022-to-may-2023/202209-divvy-tripdata.csv\")\n",
    "csv_2022_10 <- read_csv(\"/kaggle/input/divvy-tripdata-june-2022-to-may-2023/202210-divvy-tripdata.csv\")\n",
    "csv_2022_11 <- read_csv(\"/kaggle/input/divvy-tripdata-june-2022-to-may-2023/202211-divvy-tripdata.csv\")\n",
    "csv_2022_12 <- read_csv(\"/kaggle/input/divvy-tripdata-june-2022-to-may-2023/202212-divvy-tripdata.csv\")\n",
    "csv_2023_01 <- read_csv(\"/kaggle/input/divvy-tripdata-june-2022-to-may-2023/202301-divvy-tripdata.csv\")\n",
    "csv_2023_02 <- read_csv(\"/kaggle/input/divvy-tripdata-june-2022-to-may-2023/202302-divvy-tripdata.csv\")\n",
    "csv_2023_03 <- read_csv(\"/kaggle/input/divvy-tripdata-june-2022-to-may-2023/202303-divvy-tripdata.csv\")\n",
    "csv_2023_04 <- read_csv(\"/kaggle/input/divvy-tripdata-june-2022-to-may-2023/202304-divvy-tripdata.csv\")\n",
    "csv_2023_05 <- read_csv(\"/kaggle/input/divvy-tripdata-june-2022-to-may-2023/202305-divvy-tripdata.csv\")"
   ]
  },
  {
   "cell_type": "markdown",
   "id": "5cf58617",
   "metadata": {
    "papermill": {
     "duration": 0.005536,
     "end_time": "2023-07-20T18:42:11.934404",
     "exception": false,
     "start_time": "2023-07-20T18:42:11.928868",
     "status": "completed"
    },
    "tags": []
   },
   "source": [
    "## STEP 2: WRANGLE DATA AND COMBINE INTO A SINGLE FILE"
   ]
  },
  {
   "cell_type": "code",
   "execution_count": 3,
   "id": "bb4cf285",
   "metadata": {
    "execution": {
     "iopub.execute_input": "2023-07-20T18:42:11.949145Z",
     "iopub.status.busy": "2023-07-20T18:42:11.947551Z",
     "iopub.status.idle": "2023-07-20T18:42:19.173769Z",
     "shell.execute_reply": "2023-07-20T18:42:19.171916Z"
    },
    "papermill": {
     "duration": 7.237276,
     "end_time": "2023-07-20T18:42:19.177296",
     "exception": false,
     "start_time": "2023-07-20T18:42:11.940020",
     "status": "completed"
    },
    "tags": []
   },
   "outputs": [],
   "source": [
    "# Stack individual months into one big dataframe\n",
    "all_trips <- bind_rows(csv_2022_06, csv_2022_07, csv_2022_08, csv_2022_09, csv_2022_10, csv_2022_11, csv_2022_12, csv_2023_01, csv_2023_02, csv_2023_03, csv_2023_04, csv_2023_05)\n",
    "\n",
    "# Remove lat, long\n",
    "all_trips <- all_trips %>%  \n",
    "  select(-c(start_lat, start_lng, end_lat, end_lng))"
   ]
  },
  {
   "cell_type": "markdown",
   "id": "892bad0d",
   "metadata": {
    "papermill": {
     "duration": 0.005605,
     "end_time": "2023-07-20T18:42:19.188567",
     "exception": false,
     "start_time": "2023-07-20T18:42:19.182962",
     "status": "completed"
    },
    "tags": []
   },
   "source": [
    "## STEP 3: CLEAN UP AND ADD DATA TO PREPARE FOR ANALYSIS"
   ]
  },
  {
   "cell_type": "code",
   "execution_count": 4,
   "id": "44ed3a51",
   "metadata": {
    "execution": {
     "iopub.execute_input": "2023-07-20T18:42:19.204926Z",
     "iopub.status.busy": "2023-07-20T18:42:19.203334Z",
     "iopub.status.idle": "2023-07-20T18:42:42.919228Z",
     "shell.execute_reply": "2023-07-20T18:42:42.917374Z"
    },
    "papermill": {
     "duration": 23.727186,
     "end_time": "2023-07-20T18:42:42.922931",
     "exception": false,
     "start_time": "2023-07-20T18:42:19.195745",
     "status": "completed"
    },
    "tags": []
   },
   "outputs": [],
   "source": [
    "# Add columns that list the date, month, day, and year of each ride\n",
    "all_trips$date <- as.Date(all_trips$started_at)\n",
    "all_trips$month <- format(as.Date(all_trips$date), \"%m\")\n",
    "all_trips$day <- format(as.Date(all_trips$date), \"%d\")\n",
    "all_trips$year <- format(as.Date(all_trips$date), \"%Y\")\n",
    "all_trips$day_of_week <- format(as.Date(all_trips$date), \"%A\")\n",
    "\n",
    "# Add a \"ride_length\" calculation to all_trips (in seconds)\n",
    "all_trips$ride_length <- difftime(all_trips$ended_at,all_trips$started_at)\n",
    "\n",
    "# Convert \"ride_length\" from Factor to numeric so we can run calculations on the data\n",
    "all_trips$ride_length <- as.numeric(as.character(all_trips$ride_length))\n",
    "\n",
    "# Remove \"bad\" data where ride_length was negative\n",
    "all_trips_v2 <- all_trips[!(all_trips$ride_length<0),]"
   ]
  },
  {
   "cell_type": "markdown",
   "id": "985f7736",
   "metadata": {
    "papermill": {
     "duration": 0.005594,
     "end_time": "2023-07-20T18:42:42.934693",
     "exception": false,
     "start_time": "2023-07-20T18:42:42.929099",
     "status": "completed"
    },
    "tags": []
   },
   "source": [
    "## STEP 4: CONDUCT DESCRIPTIVE ANALYSIS"
   ]
  },
  {
   "cell_type": "code",
   "execution_count": 5,
   "id": "1a304961",
   "metadata": {
    "execution": {
     "iopub.execute_input": "2023-07-20T18:42:42.949521Z",
     "iopub.status.busy": "2023-07-20T18:42:42.947988Z",
     "iopub.status.idle": "2023-07-20T18:43:14.676478Z",
     "shell.execute_reply": "2023-07-20T18:43:14.674784Z"
    },
    "papermill": {
     "duration": 31.739,
     "end_time": "2023-07-20T18:43:14.679326",
     "exception": false,
     "start_time": "2023-07-20T18:42:42.940326",
     "status": "completed"
    },
    "tags": []
   },
   "outputs": [
    {
     "data": {
      "text/plain": [
       "   Min. 1st Qu.  Median    Mean 3rd Qu.    Max. \n",
       "      0     335     591    1123    1057 2483235 "
      ]
     },
     "metadata": {},
     "output_type": "display_data"
    },
    {
     "data": {
      "text/html": [
       "<table class=\"dataframe\">\n",
       "<caption>A data.frame: 2 × 2</caption>\n",
       "<thead>\n",
       "\t<tr><th scope=col>all_trips_v2$member_casual</th><th scope=col>all_trips_v2$ride_length</th></tr>\n",
       "\t<tr><th scope=col>&lt;chr&gt;</th><th scope=col>&lt;dbl&gt;</th></tr>\n",
       "</thead>\n",
       "<tbody>\n",
       "\t<tr><td>casual</td><td>1692.5512</td></tr>\n",
       "\t<tr><td>member</td><td> 748.1938</td></tr>\n",
       "</tbody>\n",
       "</table>\n"
      ],
      "text/latex": [
       "A data.frame: 2 × 2\n",
       "\\begin{tabular}{ll}\n",
       " all\\_trips\\_v2\\$member\\_casual & all\\_trips\\_v2\\$ride\\_length\\\\\n",
       " <chr> & <dbl>\\\\\n",
       "\\hline\n",
       "\t casual & 1692.5512\\\\\n",
       "\t member &  748.1938\\\\\n",
       "\\end{tabular}\n"
      ],
      "text/markdown": [
       "\n",
       "A data.frame: 2 × 2\n",
       "\n",
       "| all_trips_v2$member_casual &lt;chr&gt; | all_trips_v2$ride_length &lt;dbl&gt; |\n",
       "|---|---|\n",
       "| casual | 1692.5512 |\n",
       "| member |  748.1938 |\n",
       "\n"
      ],
      "text/plain": [
       "  all_trips_v2$member_casual all_trips_v2$ride_length\n",
       "1 casual                     1692.5512               \n",
       "2 member                      748.1938               "
      ]
     },
     "metadata": {},
     "output_type": "display_data"
    },
    {
     "data": {
      "text/html": [
       "<table class=\"dataframe\">\n",
       "<caption>A data.frame: 2 × 2</caption>\n",
       "<thead>\n",
       "\t<tr><th scope=col>all_trips_v2$member_casual</th><th scope=col>all_trips_v2$ride_length</th></tr>\n",
       "\t<tr><th scope=col>&lt;chr&gt;</th><th scope=col>&lt;dbl&gt;</th></tr>\n",
       "</thead>\n",
       "<tbody>\n",
       "\t<tr><td>casual</td><td>735</td></tr>\n",
       "\t<tr><td>member</td><td>517</td></tr>\n",
       "</tbody>\n",
       "</table>\n"
      ],
      "text/latex": [
       "A data.frame: 2 × 2\n",
       "\\begin{tabular}{ll}\n",
       " all\\_trips\\_v2\\$member\\_casual & all\\_trips\\_v2\\$ride\\_length\\\\\n",
       " <chr> & <dbl>\\\\\n",
       "\\hline\n",
       "\t casual & 735\\\\\n",
       "\t member & 517\\\\\n",
       "\\end{tabular}\n"
      ],
      "text/markdown": [
       "\n",
       "A data.frame: 2 × 2\n",
       "\n",
       "| all_trips_v2$member_casual &lt;chr&gt; | all_trips_v2$ride_length &lt;dbl&gt; |\n",
       "|---|---|\n",
       "| casual | 735 |\n",
       "| member | 517 |\n",
       "\n"
      ],
      "text/plain": [
       "  all_trips_v2$member_casual all_trips_v2$ride_length\n",
       "1 casual                     735                     \n",
       "2 member                     517                     "
      ]
     },
     "metadata": {},
     "output_type": "display_data"
    },
    {
     "data": {
      "text/html": [
       "<table class=\"dataframe\">\n",
       "<caption>A data.frame: 2 × 2</caption>\n",
       "<thead>\n",
       "\t<tr><th scope=col>all_trips_v2$member_casual</th><th scope=col>all_trips_v2$ride_length</th></tr>\n",
       "\t<tr><th scope=col>&lt;chr&gt;</th><th scope=col>&lt;dbl&gt;</th></tr>\n",
       "</thead>\n",
       "<tbody>\n",
       "\t<tr><td>casual</td><td>2483235</td></tr>\n",
       "\t<tr><td>member</td><td>  93580</td></tr>\n",
       "</tbody>\n",
       "</table>\n"
      ],
      "text/latex": [
       "A data.frame: 2 × 2\n",
       "\\begin{tabular}{ll}\n",
       " all\\_trips\\_v2\\$member\\_casual & all\\_trips\\_v2\\$ride\\_length\\\\\n",
       " <chr> & <dbl>\\\\\n",
       "\\hline\n",
       "\t casual & 2483235\\\\\n",
       "\t member &   93580\\\\\n",
       "\\end{tabular}\n"
      ],
      "text/markdown": [
       "\n",
       "A data.frame: 2 × 2\n",
       "\n",
       "| all_trips_v2$member_casual &lt;chr&gt; | all_trips_v2$ride_length &lt;dbl&gt; |\n",
       "|---|---|\n",
       "| casual | 2483235 |\n",
       "| member |   93580 |\n",
       "\n"
      ],
      "text/plain": [
       "  all_trips_v2$member_casual all_trips_v2$ride_length\n",
       "1 casual                     2483235                 \n",
       "2 member                       93580                 "
      ]
     },
     "metadata": {},
     "output_type": "display_data"
    },
    {
     "data": {
      "text/html": [
       "<table class=\"dataframe\">\n",
       "<caption>A data.frame: 2 × 2</caption>\n",
       "<thead>\n",
       "\t<tr><th scope=col>all_trips_v2$member_casual</th><th scope=col>all_trips_v2$ride_length</th></tr>\n",
       "\t<tr><th scope=col>&lt;chr&gt;</th><th scope=col>&lt;dbl&gt;</th></tr>\n",
       "</thead>\n",
       "<tbody>\n",
       "\t<tr><td>casual</td><td>0</td></tr>\n",
       "\t<tr><td>member</td><td>0</td></tr>\n",
       "</tbody>\n",
       "</table>\n"
      ],
      "text/latex": [
       "A data.frame: 2 × 2\n",
       "\\begin{tabular}{ll}\n",
       " all\\_trips\\_v2\\$member\\_casual & all\\_trips\\_v2\\$ride\\_length\\\\\n",
       " <chr> & <dbl>\\\\\n",
       "\\hline\n",
       "\t casual & 0\\\\\n",
       "\t member & 0\\\\\n",
       "\\end{tabular}\n"
      ],
      "text/markdown": [
       "\n",
       "A data.frame: 2 × 2\n",
       "\n",
       "| all_trips_v2$member_casual &lt;chr&gt; | all_trips_v2$ride_length &lt;dbl&gt; |\n",
       "|---|---|\n",
       "| casual | 0 |\n",
       "| member | 0 |\n",
       "\n"
      ],
      "text/plain": [
       "  all_trips_v2$member_casual all_trips_v2$ride_length\n",
       "1 casual                     0                       \n",
       "2 member                     0                       "
      ]
     },
     "metadata": {},
     "output_type": "display_data"
    },
    {
     "data": {
      "text/html": [
       "<table class=\"dataframe\">\n",
       "<caption>A data.frame: 14 × 3</caption>\n",
       "<thead>\n",
       "\t<tr><th scope=col>all_trips_v2$member_casual</th><th scope=col>all_trips_v2$day_of_week</th><th scope=col>all_trips_v2$ride_length</th></tr>\n",
       "\t<tr><th scope=col>&lt;chr&gt;</th><th scope=col>&lt;ord&gt;</th><th scope=col>&lt;dbl&gt;</th></tr>\n",
       "</thead>\n",
       "<tbody>\n",
       "\t<tr><td>casual</td><td>Sunday   </td><td>2002.5709</td></tr>\n",
       "\t<tr><td>member</td><td>Sunday   </td><td> 830.8878</td></tr>\n",
       "\t<tr><td>casual</td><td>Monday   </td><td>1653.3675</td></tr>\n",
       "\t<tr><td>member</td><td>Monday   </td><td> 710.7680</td></tr>\n",
       "\t<tr><td>casual</td><td>Tuesday  </td><td>1516.8989</td></tr>\n",
       "\t<tr><td>member</td><td>Tuesday  </td><td> 718.8808</td></tr>\n",
       "\t<tr><td>casual</td><td>Wednesday</td><td>1436.5559</td></tr>\n",
       "\t<tr><td>member</td><td>Wednesday</td><td> 714.8249</td></tr>\n",
       "\t<tr><td>casual</td><td>Thursday </td><td>1462.1990</td></tr>\n",
       "\t<tr><td>member</td><td>Thursday </td><td> 721.9582</td></tr>\n",
       "\t<tr><td>casual</td><td>Friday   </td><td>1641.6201</td></tr>\n",
       "\t<tr><td>member</td><td>Friday   </td><td> 740.5853</td></tr>\n",
       "\t<tr><td>casual</td><td>Saturday </td><td>1924.6666</td></tr>\n",
       "\t<tr><td>member</td><td>Saturday </td><td> 834.7332</td></tr>\n",
       "</tbody>\n",
       "</table>\n"
      ],
      "text/latex": [
       "A data.frame: 14 × 3\n",
       "\\begin{tabular}{lll}\n",
       " all\\_trips\\_v2\\$member\\_casual & all\\_trips\\_v2\\$day\\_of\\_week & all\\_trips\\_v2\\$ride\\_length\\\\\n",
       " <chr> & <ord> & <dbl>\\\\\n",
       "\\hline\n",
       "\t casual & Sunday    & 2002.5709\\\\\n",
       "\t member & Sunday    &  830.8878\\\\\n",
       "\t casual & Monday    & 1653.3675\\\\\n",
       "\t member & Monday    &  710.7680\\\\\n",
       "\t casual & Tuesday   & 1516.8989\\\\\n",
       "\t member & Tuesday   &  718.8808\\\\\n",
       "\t casual & Wednesday & 1436.5559\\\\\n",
       "\t member & Wednesday &  714.8249\\\\\n",
       "\t casual & Thursday  & 1462.1990\\\\\n",
       "\t member & Thursday  &  721.9582\\\\\n",
       "\t casual & Friday    & 1641.6201\\\\\n",
       "\t member & Friday    &  740.5853\\\\\n",
       "\t casual & Saturday  & 1924.6666\\\\\n",
       "\t member & Saturday  &  834.7332\\\\\n",
       "\\end{tabular}\n"
      ],
      "text/markdown": [
       "\n",
       "A data.frame: 14 × 3\n",
       "\n",
       "| all_trips_v2$member_casual &lt;chr&gt; | all_trips_v2$day_of_week &lt;ord&gt; | all_trips_v2$ride_length &lt;dbl&gt; |\n",
       "|---|---|---|\n",
       "| casual | Sunday    | 2002.5709 |\n",
       "| member | Sunday    |  830.8878 |\n",
       "| casual | Monday    | 1653.3675 |\n",
       "| member | Monday    |  710.7680 |\n",
       "| casual | Tuesday   | 1516.8989 |\n",
       "| member | Tuesday   |  718.8808 |\n",
       "| casual | Wednesday | 1436.5559 |\n",
       "| member | Wednesday |  714.8249 |\n",
       "| casual | Thursday  | 1462.1990 |\n",
       "| member | Thursday  |  721.9582 |\n",
       "| casual | Friday    | 1641.6201 |\n",
       "| member | Friday    |  740.5853 |\n",
       "| casual | Saturday  | 1924.6666 |\n",
       "| member | Saturday  |  834.7332 |\n",
       "\n"
      ],
      "text/plain": [
       "   all_trips_v2$member_casual all_trips_v2$day_of_week all_trips_v2$ride_length\n",
       "1  casual                     Sunday                   2002.5709               \n",
       "2  member                     Sunday                    830.8878               \n",
       "3  casual                     Monday                   1653.3675               \n",
       "4  member                     Monday                    710.7680               \n",
       "5  casual                     Tuesday                  1516.8989               \n",
       "6  member                     Tuesday                   718.8808               \n",
       "7  casual                     Wednesday                1436.5559               \n",
       "8  member                     Wednesday                 714.8249               \n",
       "9  casual                     Thursday                 1462.1990               \n",
       "10 member                     Thursday                  721.9582               \n",
       "11 casual                     Friday                   1641.6201               \n",
       "12 member                     Friday                    740.5853               \n",
       "13 casual                     Saturday                 1924.6666               \n",
       "14 member                     Saturday                  834.7332               "
      ]
     },
     "metadata": {},
     "output_type": "display_data"
    },
    {
     "name": "stderr",
     "output_type": "stream",
     "text": [
      "\u001b[1m\u001b[22m`summarise()` has grouped output by 'member_casual'. You can override using the\n",
      "`.groups` argument.\n"
     ]
    },
    {
     "data": {
      "text/html": [
       "<table class=\"dataframe\">\n",
       "<caption>A grouped_df: 14 × 4</caption>\n",
       "<thead>\n",
       "\t<tr><th scope=col>member_casual</th><th scope=col>weekday</th><th scope=col>number_of_rides</th><th scope=col>average_duration</th></tr>\n",
       "\t<tr><th scope=col>&lt;chr&gt;</th><th scope=col>&lt;ord&gt;</th><th scope=col>&lt;int&gt;</th><th scope=col>&lt;dbl&gt;</th></tr>\n",
       "</thead>\n",
       "<tbody>\n",
       "\t<tr><td>casual</td><td>Sun</td><td>375613</td><td>2002.5709</td></tr>\n",
       "\t<tr><td>casual</td><td>Mon</td><td>257820</td><td>1653.3675</td></tr>\n",
       "\t<tr><td>casual</td><td>Tue</td><td>270962</td><td>1516.8989</td></tr>\n",
       "\t<tr><td>casual</td><td>Wed</td><td>291902</td><td>1436.5559</td></tr>\n",
       "\t<tr><td>casual</td><td>Thu</td><td>313339</td><td>1462.1990</td></tr>\n",
       "\t<tr><td>casual</td><td>Fri</td><td>346555</td><td>1641.6201</td></tr>\n",
       "\t<tr><td>casual</td><td>Sat</td><td>455826</td><td>1924.6666</td></tr>\n",
       "\t<tr><td>member</td><td>Sun</td><td>394535</td><td> 830.8878</td></tr>\n",
       "\t<tr><td>member</td><td>Mon</td><td>471393</td><td> 710.7680</td></tr>\n",
       "\t<tr><td>member</td><td>Tue</td><td>552529</td><td> 718.8808</td></tr>\n",
       "\t<tr><td>member</td><td>Wed</td><td>579333</td><td> 714.8249</td></tr>\n",
       "\t<tr><td>member</td><td>Thu</td><td>564900</td><td> 721.9582</td></tr>\n",
       "\t<tr><td>member</td><td>Fri</td><td>501463</td><td> 740.5853</td></tr>\n",
       "\t<tr><td>member</td><td>Sat</td><td>452748</td><td> 834.7332</td></tr>\n",
       "</tbody>\n",
       "</table>\n"
      ],
      "text/latex": [
       "A grouped\\_df: 14 × 4\n",
       "\\begin{tabular}{llll}\n",
       " member\\_casual & weekday & number\\_of\\_rides & average\\_duration\\\\\n",
       " <chr> & <ord> & <int> & <dbl>\\\\\n",
       "\\hline\n",
       "\t casual & Sun & 375613 & 2002.5709\\\\\n",
       "\t casual & Mon & 257820 & 1653.3675\\\\\n",
       "\t casual & Tue & 270962 & 1516.8989\\\\\n",
       "\t casual & Wed & 291902 & 1436.5559\\\\\n",
       "\t casual & Thu & 313339 & 1462.1990\\\\\n",
       "\t casual & Fri & 346555 & 1641.6201\\\\\n",
       "\t casual & Sat & 455826 & 1924.6666\\\\\n",
       "\t member & Sun & 394535 &  830.8878\\\\\n",
       "\t member & Mon & 471393 &  710.7680\\\\\n",
       "\t member & Tue & 552529 &  718.8808\\\\\n",
       "\t member & Wed & 579333 &  714.8249\\\\\n",
       "\t member & Thu & 564900 &  721.9582\\\\\n",
       "\t member & Fri & 501463 &  740.5853\\\\\n",
       "\t member & Sat & 452748 &  834.7332\\\\\n",
       "\\end{tabular}\n"
      ],
      "text/markdown": [
       "\n",
       "A grouped_df: 14 × 4\n",
       "\n",
       "| member_casual &lt;chr&gt; | weekday &lt;ord&gt; | number_of_rides &lt;int&gt; | average_duration &lt;dbl&gt; |\n",
       "|---|---|---|---|\n",
       "| casual | Sun | 375613 | 2002.5709 |\n",
       "| casual | Mon | 257820 | 1653.3675 |\n",
       "| casual | Tue | 270962 | 1516.8989 |\n",
       "| casual | Wed | 291902 | 1436.5559 |\n",
       "| casual | Thu | 313339 | 1462.1990 |\n",
       "| casual | Fri | 346555 | 1641.6201 |\n",
       "| casual | Sat | 455826 | 1924.6666 |\n",
       "| member | Sun | 394535 |  830.8878 |\n",
       "| member | Mon | 471393 |  710.7680 |\n",
       "| member | Tue | 552529 |  718.8808 |\n",
       "| member | Wed | 579333 |  714.8249 |\n",
       "| member | Thu | 564900 |  721.9582 |\n",
       "| member | Fri | 501463 |  740.5853 |\n",
       "| member | Sat | 452748 |  834.7332 |\n",
       "\n"
      ],
      "text/plain": [
       "   member_casual weekday number_of_rides average_duration\n",
       "1  casual        Sun     375613          2002.5709       \n",
       "2  casual        Mon     257820          1653.3675       \n",
       "3  casual        Tue     270962          1516.8989       \n",
       "4  casual        Wed     291902          1436.5559       \n",
       "5  casual        Thu     313339          1462.1990       \n",
       "6  casual        Fri     346555          1641.6201       \n",
       "7  casual        Sat     455826          1924.6666       \n",
       "8  member        Sun     394535           830.8878       \n",
       "9  member        Mon     471393           710.7680       \n",
       "10 member        Tue     552529           718.8808       \n",
       "11 member        Wed     579333           714.8249       \n",
       "12 member        Thu     564900           721.9582       \n",
       "13 member        Fri     501463           740.5853       \n",
       "14 member        Sat     452748           834.7332       "
      ]
     },
     "metadata": {},
     "output_type": "display_data"
    }
   ],
   "source": [
    "# Descriptive analysis on ride_length (all figures in seconds)\n",
    "summary(all_trips_v2$ride_length)\n",
    "\n",
    "# Compare members and casual users\n",
    "aggregate(all_trips_v2$ride_length ~ all_trips_v2$member_casual, FUN = mean)\n",
    "aggregate(all_trips_v2$ride_length ~ all_trips_v2$member_casual, FUN = median)\n",
    "aggregate(all_trips_v2$ride_length ~ all_trips_v2$member_casual, FUN = max)\n",
    "aggregate(all_trips_v2$ride_length ~ all_trips_v2$member_casual, FUN = min)\n",
    "\n",
    "# Put the days of the week in order\n",
    "all_trips_v2$day_of_week <- ordered(all_trips_v2$day_of_week,\n",
    "                                    levels=c(\"Sunday\", \"Monday\",\"Tuesday\", \"Wednesday\", \"Thursday\", \"Friday\", \"Saturday\"))\n",
    "\n",
    "# See the average ride time by each day for members vs casual users\n",
    "aggregate(all_trips_v2$ride_length ~ all_trips_v2$member_casual + all_trips_v2$day_of_week, FUN = mean)\n",
    "\n",
    "# analyze ridership data by type and weekday\n",
    "all_trips_v2 %>% \n",
    "  mutate(weekday = wday(started_at, label = TRUE)) %>%\n",
    "  group_by(member_casual, weekday) %>%\n",
    "  summarise(number_of_rides = n(), average_duration = mean(ride_length)) %>%\n",
    "  arrange(member_casual, weekday)"
   ]
  },
  {
   "cell_type": "markdown",
   "id": "ff5f7aa7",
   "metadata": {
    "papermill": {
     "duration": 0.007122,
     "end_time": "2023-07-20T18:43:14.694076",
     "exception": false,
     "start_time": "2023-07-20T18:43:14.686954",
     "status": "completed"
    },
    "tags": []
   },
   "source": [
    "### Create Visualizations"
   ]
  },
  {
   "cell_type": "code",
   "execution_count": 6,
   "id": "0ec666ba",
   "metadata": {
    "execution": {
     "iopub.execute_input": "2023-07-20T18:43:14.712094Z",
     "iopub.status.busy": "2023-07-20T18:43:14.710520Z",
     "iopub.status.idle": "2023-07-20T18:43:27.871436Z",
     "shell.execute_reply": "2023-07-20T18:43:27.869491Z"
    },
    "papermill": {
     "duration": 13.173255,
     "end_time": "2023-07-20T18:43:27.874496",
     "exception": false,
     "start_time": "2023-07-20T18:43:14.701241",
     "status": "completed"
    },
    "tags": []
   },
   "outputs": [
    {
     "name": "stderr",
     "output_type": "stream",
     "text": [
      "\u001b[1m\u001b[22m`summarise()` has grouped output by 'member_casual'. You can override using the\n",
      "`.groups` argument.\n",
      "\u001b[1m\u001b[22m`summarise()` has grouped output by 'member_casual'. You can override using the\n",
      "`.groups` argument.\n"
     ]
    },
    {
     "data": {
      "image/png": "[encoded data removed]"
     },
     "metadata": {
      "image/png": {
       "height": 420,
       "width": 420
      }
     },
     "output_type": "display_data"
    },
    {
     "data": {
      "image/png": "[encoded data removed]"
     },
     "metadata": {
      "image/png": {
       "height": 420,
       "width": 420
      }
     },
     "output_type": "display_data"
    }
   ],
   "source": [
    "# Visualize the number of rides by rider type\n",
    "all_trips_v2 %>% \n",
    "  mutate(weekday = wday(started_at, label = TRUE)) %>% \n",
    "  group_by(member_casual, weekday) %>% \n",
    "  summarise(number_of_rides = n(), average_duration = mean(ride_length)) %>% \n",
    "  arrange(member_casual, weekday)  %>% \n",
    "  ggplot(aes(x = weekday, y = number_of_rides, fill = member_casual)) +\n",
    "  geom_col(position = \"dodge\") +\n",
    "  labs(title = \"Number of Rides by Rider Type\",\n",
    "       x = \"Day of Week\",\n",
    "       y = \"Number of Rides\")\n",
    "\n",
    "# Create a visualization for average duration\n",
    "all_trips_v2 %>% \n",
    "  mutate(weekday = wday(started_at, label = TRUE)) %>% \n",
    "  group_by(member_casual, weekday) %>% \n",
    "  summarise(number_of_rides = n(), average_duration = mean(ride_length)) %>% \n",
    "  arrange(member_casual, weekday)  %>% \n",
    "  ggplot(aes(x = weekday, y = average_duration, fill = member_casual)) +\n",
    "  geom_col(position = \"dodge\") +\n",
    "  labs(title = \"Ride Duration by Rider Type\",\n",
    "       x = \"Day of Week\",\n",
    "       y = \"Average Duration (Seconds)\")"
   ]
  },
  {
   "cell_type": "markdown",
   "id": "d736fad8",
   "metadata": {
    "papermill": {
     "duration": 0.00846,
     "end_time": "2023-07-20T18:43:27.892256",
     "exception": false,
     "start_time": "2023-07-20T18:43:27.883796",
     "status": "completed"
    },
    "tags": []
   },
   "source": [
    "## STEP 5: EXPORT SUMMARY FILE FOR FURTHER ANALYSIS"
   ]
  },
  {
   "cell_type": "code",
   "execution_count": 7,
   "id": "226b1de7",
   "metadata": {
    "execution": {
     "iopub.execute_input": "2023-07-20T18:43:27.913402Z",
     "iopub.status.busy": "2023-07-20T18:43:27.911766Z",
     "iopub.status.idle": "2023-07-20T18:43:31.833714Z",
     "shell.execute_reply": "2023-07-20T18:43:31.831899Z"
    },
    "papermill": {
     "duration": 3.935069,
     "end_time": "2023-07-20T18:43:31.836374",
     "exception": false,
     "start_time": "2023-07-20T18:43:27.901305",
     "status": "completed"
    },
    "tags": []
   },
   "outputs": [],
   "source": [
    "# Create a csv file to visualize in Excel, Tableau, etc\n",
    "counts <- aggregate(all_trips_v2$ride_length ~ all_trips_v2$member_casual + all_trips_v2$day_of_week, FUN = mean)\n",
    "write.csv(counts, file = 'avg_ride_length.csv')"
   ]
  }
 ],
 "metadata": {
  "kernelspec": {
   "display_name": "R",
   "language": "R",
   "name": "ir"
  },
  "language_info": {
   "codemirror_mode": "r",
   "file_extension": ".r",
   "mimetype": "text/x-r-source",
   "name": "R",
   "pygments_lexer": "r",
   "version": "4.0.5"
  },
  "papermill": {
   "default_parameters": {},
   "duration": 115.57621,
   "end_time": "2023-07-20T18:43:32.168026",
   "environment_variables": {},
   "exception": null,
   "input_path": "__notebook__.ipynb",
   "output_path": "__notebook__.ipynb",
   "parameters": {},
   "start_time": "2023-07-20T18:41:36.591816",
   "version": "2.4.0"
  }
 },
 "nbformat": 4,
 "nbformat_minor": 5
}
